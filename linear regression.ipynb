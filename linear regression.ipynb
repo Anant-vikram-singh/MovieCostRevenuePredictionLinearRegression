{
 "cells": [
  {
   "attachments": {},
   "cell_type": "markdown",
   "id": "1abfe27e",
   "metadata": {},
   "source": [
    "### Import Libraries"
   ]
  },
  {
   "cell_type": "code",
   "execution_count": 1,
   "id": "28922077",
   "metadata": {},
   "outputs": [],
   "source": [
    "import pandas as pd\n",
    "from pandas import DataFrame\n",
    "import matplotlib.pyplot as plt"
   ]
  },
  {
   "attachments": {},
   "cell_type": "markdown",
   "id": "348f7fe1",
   "metadata": {},
   "source": [
    "### Load data"
   ]
  },
  {
   "cell_type": "code",
   "execution_count": 2,
   "id": "777c29c3",
   "metadata": {},
   "outputs": [],
   "source": [
    "data=pd.read_csv('cost_revenue_dirty.csv')"
   ]
  },
  {
   "attachments": {},
   "cell_type": "markdown",
   "id": "db8600c3",
   "metadata": {},
   "source": [
    "## Exploratory Data Analysis (EDA)\n",
    "### Preview of data"
   ]
  },
  {
   "cell_type": "code",
   "execution_count": 10,
   "id": "1203f193",
   "metadata": {},
   "outputs": [
    {
     "data": {
      "text/html": [
       "<div>\n",
       "<style scoped>\n",
       "    .dataframe tbody tr th:only-of-type {\n",
       "        vertical-align: middle;\n",
       "    }\n",
       "\n",
       "    .dataframe tbody tr th {\n",
       "        vertical-align: top;\n",
       "    }\n",
       "\n",
       "    .dataframe thead th {\n",
       "        text-align: right;\n",
       "    }\n",
       "</style>\n",
       "<table border=\"1\" class=\"dataframe\">\n",
       "  <thead>\n",
       "    <tr style=\"text-align: right;\">\n",
       "      <th></th>\n",
       "      <th>production_budget_usd</th>\n",
       "      <th>worldwide_gross_usd</th>\n",
       "    </tr>\n",
       "  </thead>\n",
       "  <tbody>\n",
       "    <tr>\n",
       "      <th>0</th>\n",
       "      <td>14000000.0</td>\n",
       "      <td>1.000000e+06</td>\n",
       "    </tr>\n",
       "    <tr>\n",
       "      <th>1</th>\n",
       "      <td>7000000.0</td>\n",
       "      <td>1.000000e+06</td>\n",
       "    </tr>\n",
       "    <tr>\n",
       "      <th>2</th>\n",
       "      <td>800000.0</td>\n",
       "      <td>1.001437e+06</td>\n",
       "    </tr>\n",
       "    <tr>\n",
       "      <th>3</th>\n",
       "      <td>185000000.0</td>\n",
       "      <td>1.002573e+09</td>\n",
       "    </tr>\n",
       "    <tr>\n",
       "      <th>4</th>\n",
       "      <td>1300000.0</td>\n",
       "      <td>1.005840e+06</td>\n",
       "    </tr>\n",
       "  </tbody>\n",
       "</table>\n",
       "</div>"
      ],
      "text/plain": [
       "   production_budget_usd  worldwide_gross_usd\n",
       "0             14000000.0         1.000000e+06\n",
       "1              7000000.0         1.000000e+06\n",
       "2               800000.0         1.001437e+06\n",
       "3            185000000.0         1.002573e+09\n",
       "4              1300000.0         1.005840e+06"
      ]
     },
     "execution_count": 10,
     "metadata": {},
     "output_type": "execute_result"
    }
   ],
   "source": [
    "data.head()"
   ]
  },
  {
   "cell_type": "code",
   "execution_count": 16,
   "id": "6c8d4aad",
   "metadata": {},
   "outputs": [
    {
     "data": {
      "text/html": [
       "<div>\n",
       "<style scoped>\n",
       "    .dataframe tbody tr th:only-of-type {\n",
       "        vertical-align: middle;\n",
       "    }\n",
       "\n",
       "    .dataframe tbody tr th {\n",
       "        vertical-align: top;\n",
       "    }\n",
       "\n",
       "    .dataframe thead th {\n",
       "        text-align: right;\n",
       "    }\n",
       "</style>\n",
       "<table border=\"1\" class=\"dataframe\">\n",
       "  <thead>\n",
       "    <tr style=\"text-align: right;\">\n",
       "      <th></th>\n",
       "      <th>production_budget_usd</th>\n",
       "      <th>worldwide_gross_usd</th>\n",
       "    </tr>\n",
       "  </thead>\n",
       "  <tbody>\n",
       "    <tr>\n",
       "      <th>5031</th>\n",
       "      <td>11500000.0</td>\n",
       "      <td>99930262.0</td>\n",
       "    </tr>\n",
       "    <tr>\n",
       "      <th>5032</th>\n",
       "      <td>12000000.0</td>\n",
       "      <td>994790.0</td>\n",
       "    </tr>\n",
       "    <tr>\n",
       "      <th>5033</th>\n",
       "      <td>10000000.0</td>\n",
       "      <td>997921.0</td>\n",
       "    </tr>\n",
       "    <tr>\n",
       "      <th>5034</th>\n",
       "      <td>NaN</td>\n",
       "      <td>NaN</td>\n",
       "    </tr>\n",
       "    <tr>\n",
       "      <th>5035</th>\n",
       "      <td>NaN</td>\n",
       "      <td>NaN</td>\n",
       "    </tr>\n",
       "  </tbody>\n",
       "</table>\n",
       "</div>"
      ],
      "text/plain": [
       "      production_budget_usd  worldwide_gross_usd\n",
       "5031             11500000.0           99930262.0\n",
       "5032             12000000.0             994790.0\n",
       "5033             10000000.0             997921.0\n",
       "5034                    NaN                  NaN\n",
       "5035                    NaN                  NaN"
      ]
     },
     "execution_count": 16,
     "metadata": {},
     "output_type": "execute_result"
    }
   ],
   "source": [
    "data.tail()"
   ]
  },
  {
   "cell_type": "code",
   "execution_count": 8,
   "id": "7403a9c9",
   "metadata": {},
   "outputs": [
    {
     "data": {
      "text/html": [
       "<div>\n",
       "<style scoped>\n",
       "    .dataframe tbody tr th:only-of-type {\n",
       "        vertical-align: middle;\n",
       "    }\n",
       "\n",
       "    .dataframe tbody tr th {\n",
       "        vertical-align: top;\n",
       "    }\n",
       "\n",
       "    .dataframe thead th {\n",
       "        text-align: right;\n",
       "    }\n",
       "</style>\n",
       "<table border=\"1\" class=\"dataframe\">\n",
       "  <thead>\n",
       "    <tr style=\"text-align: right;\">\n",
       "      <th></th>\n",
       "      <th>production_budget_usd</th>\n",
       "      <th>worldwide_gross_usd</th>\n",
       "    </tr>\n",
       "  </thead>\n",
       "  <tbody>\n",
       "    <tr>\n",
       "      <th>count</th>\n",
       "      <td>5.034000e+03</td>\n",
       "      <td>5.034000e+03</td>\n",
       "    </tr>\n",
       "    <tr>\n",
       "      <th>mean</th>\n",
       "      <td>3.290784e+07</td>\n",
       "      <td>9.515685e+07</td>\n",
       "    </tr>\n",
       "    <tr>\n",
       "      <th>std</th>\n",
       "      <td>4.112589e+07</td>\n",
       "      <td>1.726012e+08</td>\n",
       "    </tr>\n",
       "    <tr>\n",
       "      <th>min</th>\n",
       "      <td>1.100000e+03</td>\n",
       "      <td>2.600000e+01</td>\n",
       "    </tr>\n",
       "    <tr>\n",
       "      <th>25%</th>\n",
       "      <td>6.000000e+06</td>\n",
       "      <td>7.000000e+06</td>\n",
       "    </tr>\n",
       "    <tr>\n",
       "      <th>50%</th>\n",
       "      <td>1.900000e+07</td>\n",
       "      <td>3.296202e+07</td>\n",
       "    </tr>\n",
       "    <tr>\n",
       "      <th>75%</th>\n",
       "      <td>4.200000e+07</td>\n",
       "      <td>1.034471e+08</td>\n",
       "    </tr>\n",
       "    <tr>\n",
       "      <th>max</th>\n",
       "      <td>4.250000e+08</td>\n",
       "      <td>2.783919e+09</td>\n",
       "    </tr>\n",
       "  </tbody>\n",
       "</table>\n",
       "</div>"
      ],
      "text/plain": [
       "       production_budget_usd  worldwide_gross_usd\n",
       "count           5.034000e+03         5.034000e+03\n",
       "mean            3.290784e+07         9.515685e+07\n",
       "std             4.112589e+07         1.726012e+08\n",
       "min             1.100000e+03         2.600000e+01\n",
       "25%             6.000000e+06         7.000000e+06\n",
       "50%             1.900000e+07         3.296202e+07\n",
       "75%             4.200000e+07         1.034471e+08\n",
       "max             4.250000e+08         2.783919e+09"
      ]
     },
     "execution_count": 8,
     "metadata": {},
     "output_type": "execute_result"
    }
   ],
   "source": [
    "data.describe()"
   ]
  },
  {
   "attachments": {},
   "cell_type": "markdown",
   "id": "6b6aaa69",
   "metadata": {},
   "source": [
    "### Checking for null values"
   ]
  },
  {
   "cell_type": "code",
   "execution_count": 14,
   "id": "a09f552e",
   "metadata": {},
   "outputs": [
    {
     "data": {
      "text/plain": [
       "production_budget_usd    2\n",
       "worldwide_gross_usd      2\n",
       "dtype: int64"
      ]
     },
     "execution_count": 14,
     "metadata": {},
     "output_type": "execute_result"
    }
   ],
   "source": [
    "data.isnull().sum()"
   ]
  },
  {
   "attachments": {},
   "cell_type": "markdown",
   "id": "2b17c10d",
   "metadata": {},
   "source": [
    "___Looks like two rows has `null` values. Let's remove them.___"
   ]
  },
  {
   "cell_type": "code",
   "execution_count": 18,
   "id": "638c1484",
   "metadata": {},
   "outputs": [],
   "source": [
    "data.dropna(inplace=True)"
   ]
  },
  {
   "attachments": {},
   "cell_type": "markdown",
   "id": "d7f1748f",
   "metadata": {},
   "source": [
    "___checking for `null` values again___"
   ]
  },
  {
   "cell_type": "code",
   "execution_count": 19,
   "id": "df292444",
   "metadata": {},
   "outputs": [
    {
     "data": {
      "text/plain": [
       "production_budget_usd    0\n",
       "worldwide_gross_usd      0\n",
       "dtype: int64"
      ]
     },
     "execution_count": 19,
     "metadata": {},
     "output_type": "execute_result"
    }
   ],
   "source": [
    "data.isnull().sum()"
   ]
  },
  {
   "attachments": {},
   "cell_type": "markdown",
   "id": "dd53e3a8",
   "metadata": {},
   "source": [
    "___No `null` values after after missing value treatment___"
   ]
  },
  {
   "cell_type": "markdown",
   "id": "4febd111",
   "metadata": {},
   "source": [
    "### Looking for duplicate values"
   ]
  },
  {
   "cell_type": "code",
   "execution_count": 23,
   "id": "5f5afae8",
   "metadata": {},
   "outputs": [
    {
     "data": {
      "text/plain": [
       "2"
      ]
     },
     "execution_count": 23,
     "metadata": {},
     "output_type": "execute_result"
    }
   ],
   "source": [
    "data.duplicated().sum()"
   ]
  },
  {
   "attachments": {},
   "cell_type": "markdown",
   "id": "1a79dde5",
   "metadata": {},
   "source": [
    "___duplicate values found. Let's remove them.___"
   ]
  },
  {
   "cell_type": "code",
   "execution_count": 26,
   "id": "d4280715",
   "metadata": {},
   "outputs": [],
   "source": [
    "data.drop_duplicates(inplace=True)"
   ]
  },
  {
   "cell_type": "markdown",
   "id": "cbd9aa3a",
   "metadata": {},
   "source": [
    "___checking for duplicate values again___"
   ]
  },
  {
   "cell_type": "code",
   "execution_count": 28,
   "id": "6b98019e",
   "metadata": {},
   "outputs": [
    {
     "data": {
      "text/plain": [
       "0"
      ]
     },
     "execution_count": 28,
     "metadata": {},
     "output_type": "execute_result"
    }
   ],
   "source": [
    "data.duplicated().sum()"
   ]
  },
  {
   "attachments": {},
   "cell_type": "markdown",
   "id": "c3873579",
   "metadata": {},
   "source": [
    "___No duplicate values found after after dropping duplicate values___"
   ]
  },
  {
   "cell_type": "code",
   "execution_count": 52,
   "id": "a3a356dc",
   "metadata": {},
   "outputs": [],
   "source": [
    "X = data['production_budget_usd']\n",
    "y = data['worldwide_gross_usd']"
   ]
  },
  {
   "attachments": {},
   "cell_type": "markdown",
   "id": "03a78620",
   "metadata": {},
   "source": [
    "### Scatter Plot"
   ]
  },
  {
   "cell_type": "code",
   "execution_count": 53,
   "id": "d528c734",
   "metadata": {},
   "outputs": [
    {
     "data": {
      "image/png": "[encoded data removed]",
      "text/plain": [
       "<Figure size 720x432 with 1 Axes>"
      ]
     },
     "metadata": {
      "needs_background": "light"
     },
     "output_type": "display_data"
    }
   ],
   "source": [
    "plt.figure(figsize=(10,6))\n",
    "plt.scatter(X,y,alpha=0.3)\n",
    "plt.title('film cost vs global revenue')\n",
    "plt.xlabel('production budget $')\n",
    "plt.ylabel('world gross $')\n",
    "plt.ylim(0,3000000000)\n",
    "plt.xlim(0,450000000)\n",
    "plt.show()"
   ]
  },
  {
   "attachments": {},
   "cell_type": "markdown",
   "id": "a0c5aac4",
   "metadata": {},
   "source": [
    "### Split Data into different Training and Test Dataset  (95% Training Data / 5% Test or validation Data)"
   ]
  },
  {
   "cell_type": "code",
   "execution_count": 77,
   "id": "41d42edb",
   "metadata": {},
   "outputs": [],
   "source": [
    "from sklearn.model_selection import train_test_split\n",
    "\n",
    "X_train, X_test, y_train, y_test = train_test_split(X.values.reshape(-1, 1), y, test_size=0.05, random_state=6)\n"
   ]
  },
  {
   "attachments": {},
   "cell_type": "markdown",
   "id": "2eeaf6e0",
   "metadata": {},
   "source": [
    "## Linear Regression Model (Training and Evaluation)"
   ]
  },
  {
   "cell_type": "code",
   "execution_count": 78,
   "id": "8c6bde44",
   "metadata": {},
   "outputs": [],
   "source": [
    "from sklearn.linear_model import LinearRegression\n",
    "from sklearn.metrics import mean_squared_error, r2_score\n",
    "\n",
    "\n",
    "def linear_regression_model(X_train, y_train, X_test, y_test):\n",
    "    # Create linear regression object\n",
    "    regr = LinearRegression(fit_intercept =True)\n",
    "\n",
    "    # Train the model using the training sets\n",
    "    reg = regr.fit(X_train, y_train)\n",
    "\n",
    "    # Make predictions using the testing set\n",
    "    y_pred = regr.predict(X_test)\n",
    "\n",
    "    # The coefficients\n",
    "    print(f\"Coefficients: {regr.coef_}\")\n",
    "\n",
    "    # The intercept\n",
    "    print(f\"Interccept: {regr.intercept_}\")\n",
    "\n",
    "    # The mean squared error\n",
    "    print(f\"Mean squared error: {mean_squared_error(y_test, y_pred):.2f}\")\n",
    "\n",
    "    # The coefficient of determination: 1 is perfect prediction\n",
    "    print(f\"Coefficient of determination: {r2_score(y_test, y_pred):.2f}\")\n",
    "\n",
    "    plt.figure(figsize=(10,6))\n",
    "    plt.scatter(X_test, y_pred, color = 'red')\n",
    "    plt.scatter(X_test, y_test, color = 'blue')\n",
    "    plt.ylabel('worldwide_gross_usd')\n",
    "    plt.xlabel('production_budget_usd')\n",
    "    plt.title('Production Budget in $ vs. Wordwide gross earned in $')\n",
    "    plt.show()\n"
   ]
  },
  {
   "cell_type": "code",
   "execution_count": 79,
   "id": "fbeaef66",
   "metadata": {},
   "outputs": [
    {
     "name": "stdout",
     "output_type": "stream",
     "text": [
      "Coefficients: [3.10612327]\n",
      "Interccept: -7122291.368082479\n",
      "Mean squared error: 13162644979618130.00\n",
      "Coefficient of determination: 0.52\n"
     ]
    },
    {
     "data": {
      "image/png": "[encoded data removed]",
      "text/plain": [
       "<Figure size 720x432 with 1 Axes>"
      ]
     },
     "metadata": {
      "needs_background": "light"
     },
     "output_type": "display_data"
    }
   ],
   "source": [
    "linear_regression_model(X_train, y_train, X_test, y_test)"
   ]
  },
  {
   "cell_type": "code",
   "execution_count": null,
   "id": "51cb73c5",
   "metadata": {},
   "outputs": [],
   "source": []
  }
 ],
 "metadata": {
  "kernelspec": {
   "display_name": "base",
   "language": "python",
   "name": "python3"
  },
  "language_info": {
   "codemirror_mode": {
    "name": "ipython",
    "version": 3
   },
   "file_extension": ".py",
   "mimetype": "text/x-python",
   "name": "python",
   "nbconvert_exporter": "python",
   "pygments_lexer": "ipython3",
   "version": "3.9.12"
  },
  "vscode": {
   "interpreter": {
    "hash": "3e00d85559e5396e08917522885439f74a883a41406318cd51a086b1a8666c96"
   }
  }
 },
 "nbformat": 4,
 "nbformat_minor": 5
}
